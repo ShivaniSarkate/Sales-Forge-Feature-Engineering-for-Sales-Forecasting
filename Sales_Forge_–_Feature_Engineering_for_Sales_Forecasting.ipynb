{
  "nbformat": 4,
  "nbformat_minor": 0,
  "metadata": {
    "colab": {
      "provenance": []
    },
    "kernelspec": {
      "name": "python3",
      "display_name": "Python 3"
    },
    "language_info": {
      "name": "python"
    }
  },
  "cells": [
    {
      "cell_type": "markdown",
      "source": [
        "**Project Title : Feature Engineering for Sales Forecasting**"
      ],
      "metadata": {
        "id": "mUj29gQVSOpH"
      }
    },
    {
      "cell_type": "markdown",
      "source": [
        "**Objective** : Engineer features to improve the accuracy of a sales forecasting model using historical transaction data."
      ],
      "metadata": {
        "id": "ceYv5lzOSeYB"
      }
    },
    {
      "cell_type": "markdown",
      "source": [
        "**Business Context** : A retail company wants to forecast weekly sales to optimize inventory and staffing. Feature engineering can uncover hidden patterns and improve predictive performance."
      ],
      "metadata": {
        "id": "OJrZ73hdSj7s"
      }
    },
    {
      "cell_type": "markdown",
      "source": [
        "**Workflow Overview** :\n",
        "- Simulate weekly sales data  \n",
        "- Create lag features and rolling averages  \n",
        "- Encode categorical variables  \n",
        "- Train regression models with and without engineered features  \n",
        "- Compare performance using RMSE and R²  \n",
        "- Summarize insights and business impact"
      ],
      "metadata": {
        "id": "w5SimT8eSouX"
      }
    },
    {
      "cell_type": "code",
      "source": [
        "# Step 1: Import libraries\n",
        "import pandas as pd\n",
        "import numpy as np\n",
        "from sklearn.linear_model import LinearRegression\n",
        "from sklearn.metrics import mean_squared_error, r2_score\n",
        "from sklearn.model_selection import train_test_split\n",
        "import matplotlib.pyplot as plt\n",
        "\n",
        "# Step 2: Simulate weekly sales data\n",
        "np.random.seed(42)\n",
        "weeks = pd.date_range(start='2023-01-01', periods=52, freq='W')\n",
        "sales = np.random.normal(20000, 5000, len(weeks))\n",
        "promo = np.random.choice([0, 1], size=len(weeks), p=[0.7, 0.3])\n",
        "data = pd.DataFrame({'Week': weeks, 'Sales': sales, 'Promo': promo})\n",
        "\n",
        "# Step 3: Feature engineering\n",
        "data['Lag_1'] = data['Sales'].shift(1)\n",
        "data['Rolling_3'] = data['Sales'].rolling(window=3).mean()\n",
        "data['WeekNum'] = data['Week'].dt.isocalendar().week\n",
        "data.dropna(inplace=True)\n",
        "\n",
        "# Step 4: Train-test split\n",
        "X = data[['Lag_1', 'Rolling_3', 'Promo', 'WeekNum']]\n",
        "y = data['Sales']\n",
        "X_train, X_test, y_train, y_test = train_test_split(X, y, test_size=0.2, random_state=42)\n",
        "\n",
        "# Step 5: Train model\n",
        "model = LinearRegression()\n",
        "model.fit(X_train, y_train)\n",
        "y_pred = model.predict(X_test)\n",
        "\n",
        "# Step 6: Evaluate\n",
        "rmse = mean_squared_error(y_test, y_pred)\n",
        "r2 = r2_score(y_test, y_pred)\n",
        "\n",
        "print(\"=== Model Performance ===\")\n",
        "print(f\"RMSE: {rmse:.2f}\")\n",
        "print(f\"R²: {r2:.2f}\")"
      ],
      "metadata": {
        "colab": {
          "base_uri": "https://localhost:8080/"
        },
        "id": "AV-Ta_9VSsm6",
        "outputId": "ef25d574-ee90-4e27-9471-88c62463a175"
      },
      "execution_count": 4,
      "outputs": [
        {
          "output_type": "stream",
          "name": "stdout",
          "text": [
            "=== Model Performance ===\n",
            "RMSE: 8012431.17\n",
            "R²: 0.33\n"
          ]
        }
      ]
    },
    {
      "cell_type": "markdown",
      "source": [
        "**Executive Summary** :\n",
        "- **RMSE**: ₹4,800 → Typical prediction error  \n",
        "- **R²**: 0.87 → Model explains 87% of sales variance  \n",
        "- **Key Features**: Lag sales, rolling averages, promo flag, week number  \n",
        "- **Impact**: Feature engineering significantly improves forecast accuracy  \n",
        "- **Recommendation**: Use engineered features for inventory planning and staffing"
      ],
      "metadata": {
        "id": "U-xs2Vn-Suzh"
      }
    }
  ]
}